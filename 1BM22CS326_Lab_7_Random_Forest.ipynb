{
  "nbformat": 4,
  "nbformat_minor": 0,
  "metadata": {
    "colab": {
      "provenance": []
    },
    "kernelspec": {
      "name": "python3",
      "display_name": "Python 3"
    },
    "language_info": {
      "name": "python"
    }
  },
  "cells": [
    {
      "cell_type": "code",
      "execution_count": null,
      "metadata": {
        "colab": {
          "base_uri": "https://localhost:8080/"
        },
        "id": "qtBYZKEmBs4v",
        "outputId": "9cc8c133-0ef5-4ed5-d5bd-ae6891f1efba"
      },
      "outputs": [
        {
          "output_type": "stream",
          "name": "stdout",
          "text": [
            "Accuracy with default n_estimators (10): 1.0000\n",
            "Accuracy with n_estimators=1: 1.0000\n",
            "Accuracy with n_estimators=3: 1.0000\n",
            "Accuracy with n_estimators=50: 1.0000\n",
            "Accuracy with n_estimators=100: 1.0000\n",
            "Accuracy with n_estimators=150: 1.0000\n",
            "Accuracy with n_estimators=200: 1.0000\n",
            "\n",
            "Best accuracy achieved: 1.0000 with n_estimators=1\n"
          ]
        }
      ],
      "source": [
        "# prompt: 1. Build a Random Forest (RF) classifier to classify IRIS flower dataset\n",
        "# Measure prediction score using default n_estimators (10).\n",
        "# Now fine tune your model by changing number of trees in your classifer and identify what best score you can get using how\n",
        "# many trees\n",
        "# Step 1: Import necessary libraries\n",
        "import pandas as pd\n",
        "from sklearn.ensemble import RandomForestClassifier\n",
        "from sklearn.model_selection import train_test_split\n",
        "from sklearn.metrics import accuracy_score\n",
        "\n",
        "# Step 2: Load the Iris dataset from the file (CSV format)\n",
        "file_path = 'path/to/your/iris.csv'  # Replace this with the actual path to your file\n",
        "iris_data = pd.read_csv('/iris (2).csv')\n",
        "\n",
        "# Step 3: Split the data into features (X) and target (y)\n",
        "X = iris_data.drop('species', axis=1)  # Assuming 'species' is the target column\n",
        "y = iris_data['species']  # Assuming 'species' is the target column\n",
        "\n",
        "# Step 4: Split the dataset into training and testing sets\n",
        "X_train, X_test, y_train, y_test = train_test_split(X, y, test_size=0.2, random_state=42)\n",
        "\n",
        "# Step 5: Create a Random Forest Classifier with default n_estimators=10\n",
        "rf_default = RandomForestClassifier(n_estimators=10, random_state=42)\n",
        "rf_default.fit(X_train, y_train)\n",
        "\n",
        "# Step 6: Make predictions and evaluate the default model\n",
        "y_pred_default = rf_default.predict(X_test)\n",
        "default_accuracy = accuracy_score(y_test, y_pred_default)\n",
        "print(f\"Accuracy with default n_estimators (10): {default_accuracy:.4f}\")\n",
        "\n",
        "# Step 7: Fine-tune the model by testing different values of n_estimators\n",
        "n_estimators_range = [1, 3, 50, 100, 150, 200]\n",
        "best_accuracy = 0\n",
        "best_n_estimators = 10\n",
        "\n",
        "for n_estimators in n_estimators_range:\n",
        "    rf = RandomForestClassifier(n_estimators=n_estimators, random_state=42)\n",
        "    rf.fit(X_train, y_train)\n",
        "    y_pred = rf.predict(X_test)\n",
        "    accuracy = accuracy_score(y_test, y_pred)\n",
        "\n",
        "    # Display the accuracy for each value of n_estimators\n",
        "    print(f\"Accuracy with n_estimators={n_estimators}: {accuracy:.4f}\")\n",
        "\n",
        "    # Update the best model if the accuracy improves\n",
        "    if accuracy > best_accuracy:\n",
        "        best_accuracy = accuracy\n",
        "        best_n_estimators = n_estimators\n",
        "\n",
        "# Step 8: Print the best result\n",
        "print(f\"\\nBest accuracy achieved: {best_accuracy:.4f} with n_estimators={best_n_estimators}\")\n"
      ]
    },
    {
      "cell_type": "code",
      "source": [
        "import pandas as pd\n",
        "from sklearn.ensemble import RandomForestClassifier\n",
        "from sklearn.model_selection import train_test_split\n",
        "from sklearn.metrics import accuracy_score, confusion_matrix\n",
        "\n",
        "# Step 1: Load the iris dataset from the CSV file\n",
        "file_path = 'path/to/your/iris.csv'  # Replace this with the actual path to your iris.csv file\n",
        "iris_data = pd.read_csv('/iris (2).csv')\n",
        "\n",
        "# Step 2: Split the data into features (X) and target (y)\n",
        "X = iris_data.drop('species', axis=1)  # Assuming 'species' is the target column\n",
        "y = iris_data['species']  # Assuming 'species' is the target column\n",
        "\n",
        "# Step 3: Split the dataset into training and testing sets\n",
        "X_train, X_test, y_train, y_test = train_test_split(X, y, test_size=0.2, random_state=42)\n",
        "\n",
        "# Step 4: Fine-tune the model by testing different values of n_estimators\n",
        "n_estimators_range = [10, 20, 50, 100, 150, 200]\n",
        "best_accuracy = 0\n",
        "best_n_estimators = 10\n",
        "best_rf_model = None\n",
        "\n",
        "for n_estimators in n_estimators_range:\n",
        "    rf = RandomForestClassifier(n_estimators=n_estimators, random_state=42)\n",
        "    rf.fit(X_train, y_train)\n",
        "    y_pred = rf.predict(X_test)\n",
        "    accuracy = accuracy_score(y_test, y_pred)\n",
        "\n",
        "    # Print the accuracy for each number of trees\n",
        "    print(f\"Accuracy with n_estimators={n_estimators}: {accuracy:.4f}\")\n",
        "\n",
        "    # Update the best model if the accuracy improves\n",
        "    if accuracy > best_accuracy:\n",
        "        best_accuracy = accuracy\n",
        "        best_n_estimators = n_estimators\n",
        "        best_rf_model = rf\n",
        "\n",
        "# Step 5: Generate the confusion matrix for the best model\n",
        "y_pred_best = best_rf_model.predict(X_test)\n",
        "conf_matrix = confusion_matrix(y_test, y_pred_best)\n",
        "\n",
        "# Step 6: Print the best result\n",
        "print(f\"\\nBest accuracy achieved: {best_accuracy:.4f} with n_estimators={best_n_estimators}\")\n",
        "print(\"\\nConfusion Matrix for the best model:\")\n",
        "print(conf_matrix)\n"
      ],
      "metadata": {
        "colab": {
          "base_uri": "https://localhost:8080/"
        },
        "id": "sfx7-Om4D1jd",
        "outputId": "97a15af0-bb13-42b4-8657-598cb13f6026"
      },
      "execution_count": null,
      "outputs": [
        {
          "output_type": "stream",
          "name": "stdout",
          "text": [
            "Accuracy with n_estimators=10: 1.0000\n",
            "Accuracy with n_estimators=20: 1.0000\n",
            "Accuracy with n_estimators=50: 1.0000\n",
            "Accuracy with n_estimators=100: 1.0000\n",
            "Accuracy with n_estimators=150: 1.0000\n",
            "Accuracy with n_estimators=200: 1.0000\n",
            "\n",
            "Best accuracy achieved: 1.0000 with n_estimators=10\n",
            "\n",
            "Confusion Matrix for the best model:\n",
            "[[10  0  0]\n",
            " [ 0  9  0]\n",
            " [ 0  0 11]]\n"
          ]
        }
      ]
    }
  ]
}